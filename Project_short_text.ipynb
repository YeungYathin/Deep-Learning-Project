{
 "cells": [
  {
   "cell_type": "code",
   "execution_count": null,
   "metadata": {
    "id": "5mQMDUSBRZkv"
   },
   "outputs": [],
   "source": [
    "import torch\n",
    "import torch.nn as nn\n",
    "import torch.optim as optim\n",
    "from torchvision import datasets, transforms\n",
    "from torch.utils.data import DataLoader\n",
    "import matplotlib.pyplot as plt\n",
    "\n"
   ]
  },
  {
   "cell_type": "code",
   "execution_count": null,
   "metadata": {
    "colab": {
     "base_uri": "https://localhost:8080/"
    },
    "id": "NR3fR_R1Rwqx",
    "outputId": "bcbb5e63-947b-4f97-a047-b0b3b1ebe4a7"
   },
   "outputs": [
    {
     "name": "stdout",
     "output_type": "stream",
     "text": [
      "Downloading http://fashion-mnist.s3-website.eu-central-1.amazonaws.com/train-images-idx3-ubyte.gz\n",
      "Downloading http://fashion-mnist.s3-website.eu-central-1.amazonaws.com/train-images-idx3-ubyte.gz to ./data/FashionMNIST/raw/train-images-idx3-ubyte.gz\n"
     ]
    },
    {
     "name": "stderr",
     "output_type": "stream",
     "text": [
      "100%|██████████| 26.4M/26.4M [00:01<00:00, 18.1MB/s]\n"
     ]
    },
    {
     "name": "stdout",
     "output_type": "stream",
     "text": [
      "Extracting ./data/FashionMNIST/raw/train-images-idx3-ubyte.gz to ./data/FashionMNIST/raw\n",
      "\n",
      "Downloading http://fashion-mnist.s3-website.eu-central-1.amazonaws.com/train-labels-idx1-ubyte.gz\n",
      "Downloading http://fashion-mnist.s3-website.eu-central-1.amazonaws.com/train-labels-idx1-ubyte.gz to ./data/FashionMNIST/raw/train-labels-idx1-ubyte.gz\n"
     ]
    },
    {
     "name": "stderr",
     "output_type": "stream",
     "text": [
      "100%|██████████| 29.5k/29.5k [00:00<00:00, 312kB/s]\n"
     ]
    },
    {
     "name": "stdout",
     "output_type": "stream",
     "text": [
      "Extracting ./data/FashionMNIST/raw/train-labels-idx1-ubyte.gz to ./data/FashionMNIST/raw\n",
      "\n",
      "Downloading http://fashion-mnist.s3-website.eu-central-1.amazonaws.com/t10k-images-idx3-ubyte.gz\n",
      "Downloading http://fashion-mnist.s3-website.eu-central-1.amazonaws.com/t10k-images-idx3-ubyte.gz to ./data/FashionMNIST/raw/t10k-images-idx3-ubyte.gz\n"
     ]
    },
    {
     "name": "stderr",
     "output_type": "stream",
     "text": [
      "100%|██████████| 4.42M/4.42M [00:00<00:00, 5.29MB/s]\n"
     ]
    },
    {
     "name": "stdout",
     "output_type": "stream",
     "text": [
      "Extracting ./data/FashionMNIST/raw/t10k-images-idx3-ubyte.gz to ./data/FashionMNIST/raw\n",
      "\n",
      "Downloading http://fashion-mnist.s3-website.eu-central-1.amazonaws.com/t10k-labels-idx1-ubyte.gz\n",
      "Downloading http://fashion-mnist.s3-website.eu-central-1.amazonaws.com/t10k-labels-idx1-ubyte.gz to ./data/FashionMNIST/raw/t10k-labels-idx1-ubyte.gz\n"
     ]
    },
    {
     "name": "stderr",
     "output_type": "stream",
     "text": [
      "100%|██████████| 5.15k/5.15k [00:00<00:00, 14.9MB/s]\n"
     ]
    },
    {
     "name": "stdout",
     "output_type": "stream",
     "text": [
      "Extracting ./data/FashionMNIST/raw/t10k-labels-idx1-ubyte.gz to ./data/FashionMNIST/raw\n",
      "\n"
     ]
    }
   ],
   "source": [
    "\n",
    "batch_size = 128\n",
    "latent_dim = 20\n",
    "num_epochs = 50\n",
    "learning_rate = 1e-3\n",
    "device = torch.device(\"cuda\" if torch.cuda.is_available() else \"cpu\")\n",
    "\n",
    "# preprocessing\n",
    "transform = transforms.Compose([\n",
    "    transforms.ToTensor(),\n",
    "    transforms.Normalize((0.5,), (0.5,))\n",
    "])\n",
    "\n",
    "train_dataset = datasets.FashionMNIST(root='./data', train=True, transform=transform, download=True)\n",
    "test_dataset = datasets.FashionMNIST(root='./data', train=False, transform=transform, download=True)\n",
    "\n",
    "train_loader = DataLoader(train_dataset, batch_size=batch_size, shuffle=True)\n",
    "test_loader = DataLoader(test_dataset, batch_size=batch_size, shuffle=False)\n",
    "\n"
   ]
  },
  {
   "cell_type": "code",
   "execution_count": null,
   "metadata": {
    "id": "bC6KOU0CTOig"
   },
   "outputs": [],
   "source": [
    "# cVAE\n",
    "class Encoder(nn.Module):\n",
    "    def __init__(self, input_dim, label_dim, latent_dim):\n",
    "        super(Encoder, self).__init__()\n",
    "        self.fc1 = nn.Linear(input_dim + label_dim, 400)\n",
    "        self.fc_mu = nn.Linear(400, latent_dim)\n",
    "        self.fc_logvar = nn.Linear(400, latent_dim)\n",
    "\n",
    "    def forward(self, x, labels):\n",
    "        x = torch.cat([x, labels], dim=1)\n",
    "        h = torch.relu(self.fc1(x))\n",
    "        mu = self.fc_mu(h)\n",
    "        logvar = self.fc_logvar(h)\n",
    "        return mu, logvar\n",
    "\n",
    "class Decoder(nn.Module):\n",
    "    def __init__(self, latent_dim, label_dim, output_dim):\n",
    "        super(Decoder, self).__init__()\n",
    "        self.fc1 = nn.Linear(latent_dim + label_dim, 400)\n",
    "        self.fc2 = nn.Linear(400, output_dim)\n",
    "\n",
    "    def forward(self, z, labels):\n",
    "        z = torch.cat([z, labels], dim=1)\n",
    "        h = torch.relu(self.fc1(z))\n",
    "        x_recon = torch.sigmoid(self.fc2(h))\n",
    "        return x_recon\n",
    "\n",
    "class CVAE(nn.Module):\n",
    "    def __init__(self, input_dim, label_dim, latent_dim):\n",
    "        super(CVAE, self).__init__()\n",
    "        self.encoder = Encoder(input_dim, label_dim, latent_dim)\n",
    "        self.decoder = Decoder(latent_dim, label_dim, input_dim)\n",
    "\n",
    "    def reparameterize(self, mu, logvar):\n",
    "        std = torch.exp(0.5 * logvar)\n",
    "        eps = torch.randn_like(std)\n",
    "        return mu + eps * std\n",
    "\n",
    "    def forward(self, x, labels):\n",
    "        mu, logvar = self.encoder(x, labels)\n",
    "        z = self.reparameterize(mu, logvar)\n",
    "        x_recon = self.decoder(z, labels)\n",
    "        return x_recon, mu, logvar\n"
   ]
  },
  {
   "cell_type": "code",
   "execution_count": null,
   "metadata": {
    "id": "mdI3wUypTSTL"
   },
   "outputs": [],
   "source": [
    "\n",
    "def one_hot(labels, num_classes=10):\n",
    "    return torch.eye(num_classes)[labels].to(device)\n",
    "\n",
    "def loss_function(recon_x, x, mu, logvar):\n",
    "    BCE = nn.functional.binary_cross_entropy(recon_x, x, reduction='sum')\n",
    "    KLD = -0.5 * torch.sum(1 + logvar - mu.pow(2) - logvar.exp())\n",
    "    return BCE + KLD\n",
    "\n",
    "\n"
   ]
  },
  {
   "cell_type": "code",
   "execution_count": null,
   "metadata": {
    "colab": {
     "base_uri": "https://localhost:8080/"
    },
    "id": "Ytajx7GdTTrP",
    "outputId": "2925a4cf-6268-46a2-d6e8-4e6339fe5b63"
   },
   "outputs": [
    {
     "name": "stdout",
     "output_type": "stream",
     "text": [
      "Epoch [1/50], Loss: 283.3067\n",
      "Epoch [2/50], Loss: 254.2831\n",
      "Epoch [3/50], Loss: 248.4308\n",
      "Epoch [4/50], Loss: 245.4207\n",
      "Epoch [5/50], Loss: 243.5505\n",
      "Epoch [6/50], Loss: 242.2222\n",
      "Epoch [7/50], Loss: 241.2739\n",
      "Epoch [8/50], Loss: 240.4827\n",
      "Epoch [9/50], Loss: 239.9049\n",
      "Epoch [10/50], Loss: 239.3595\n",
      "Epoch [11/50], Loss: 238.9789\n",
      "Epoch [12/50], Loss: 238.5703\n",
      "Epoch [13/50], Loss: 238.2599\n",
      "Epoch [14/50], Loss: 237.9995\n",
      "Epoch [15/50], Loss: 237.6745\n",
      "Epoch [16/50], Loss: 237.5186\n",
      "Epoch [17/50], Loss: 237.2747\n",
      "Epoch [18/50], Loss: 237.0455\n",
      "Epoch [19/50], Loss: 236.8783\n",
      "Epoch [20/50], Loss: 236.7904\n",
      "Epoch [21/50], Loss: 236.6444\n",
      "Epoch [22/50], Loss: 236.4797\n",
      "Epoch [23/50], Loss: 236.3930\n",
      "Epoch [24/50], Loss: 236.2977\n",
      "Epoch [25/50], Loss: 236.1352\n",
      "Epoch [26/50], Loss: 236.0563\n",
      "Epoch [27/50], Loss: 235.9553\n",
      "Epoch [28/50], Loss: 235.8954\n",
      "Epoch [29/50], Loss: 235.7942\n",
      "Epoch [30/50], Loss: 235.7550\n",
      "Epoch [31/50], Loss: 235.6565\n",
      "Epoch [32/50], Loss: 235.6396\n",
      "Epoch [33/50], Loss: 235.5216\n",
      "Epoch [34/50], Loss: 235.4774\n",
      "Epoch [35/50], Loss: 235.4232\n",
      "Epoch [36/50], Loss: 235.3390\n",
      "Epoch [37/50], Loss: 235.2899\n",
      "Epoch [38/50], Loss: 235.2796\n",
      "Epoch [39/50], Loss: 235.1737\n",
      "Epoch [40/50], Loss: 235.1031\n",
      "Epoch [41/50], Loss: 235.1417\n",
      "Epoch [42/50], Loss: 235.0560\n",
      "Epoch [43/50], Loss: 235.0400\n",
      "Epoch [44/50], Loss: 234.9795\n",
      "Epoch [45/50], Loss: 234.9399\n",
      "Epoch [46/50], Loss: 234.9264\n",
      "Epoch [47/50], Loss: 234.8722\n",
      "Epoch [48/50], Loss: 234.8228\n",
      "Epoch [49/50], Loss: 234.8125\n",
      "Epoch [50/50], Loss: 234.7561\n"
     ]
    }
   ],
   "source": [
    "# initialization\n",
    "input_dim = 28 * 28\n",
    "label_dim = 10\n",
    "model = CVAE(input_dim, label_dim, latent_dim).to(device)\n",
    "optimizer = optim.Adam(model.parameters(), lr=learning_rate)\n",
    "\n",
    "# train\n",
    "model.train()\n",
    "for epoch in range(num_epochs):\n",
    "    train_loss = 0\n",
    "    for batch_idx, (data, labels) in enumerate(train_loader):\n",
    "        data = data.view(-1, 28 * 28).to(device)\n",
    "        labels = one_hot(labels, label_dim)\n",
    "\n",
    "        # normalization\n",
    "        data = (data + 1) / 2\n",
    "\n",
    "        optimizer.zero_grad()\n",
    "        recon_batch, mu, logvar = model(data, labels)\n",
    "        loss = loss_function(recon_batch, data, mu, logvar)\n",
    "        loss.backward()\n",
    "        train_loss += loss.item()\n",
    "        optimizer.step()\n",
    "\n",
    "    print(f\"Epoch [{epoch+1}/{num_epochs}], Loss: {train_loss / len(train_loader.dataset):.4f}\")\n",
    "\n",
    "\n"
   ]
  },
  {
   "cell_type": "code",
   "execution_count": null,
   "metadata": {
    "colab": {
     "base_uri": "https://localhost:8080/",
     "height": 100
    },
    "id": "QaGEyrP4TUSk",
    "outputId": "6567f35b-dd07-4a14-ac73-d3e4bd868c46"
   },
   "outputs": [
    {
     "data": {
      "image/png": "[encoded data removed]",
      "text/plain": [
       "<Figure size 1500x200 with 10 Axes>"
      ]
     },
     "metadata": {},
     "output_type": "display_data"
    }
   ],
   "source": [
    "# test\n",
    "model.eval()\n",
    "with torch.no_grad():\n",
    "    labels = torch.arange(10).long()\n",
    "    labels_onehot = one_hot(labels, label_dim)\n",
    "    z = torch.randn(10, latent_dim).to(device)\n",
    "    samples = model.decoder(z, labels_onehot).view(-1, 1, 28, 28).cpu()\n",
    "\n",
    "    # visualization\n",
    "    fig, axs = plt.subplots(1, 10, figsize=(15, 2))\n",
    "    for i, ax in enumerate(axs):\n",
    "        ax.imshow(samples[i].squeeze(), cmap='gray')\n",
    "        ax.axis('off')\n",
    "    plt.show()"
   ]
  },
  {
   "cell_type": "code",
   "execution_count": null,
   "metadata": {
    "colab": {
     "base_uri": "https://localhost:8080/",
     "height": 223
    },
    "id": "zYAqeN_LVxv7",
    "outputId": "4264cf22-b67a-437c-d3ec-f86d2d2b8419"
   },
   "outputs": [
    {
     "name": "stdout",
     "output_type": "stream",
     "text": [
      "Invalid text input: 'hat'. Valid options are: ['t-shirt', 'trouser', 'pullover', 'dress', 'coat', 'sandal', 'shirt', 'sneaker', 'bag', 'boot']\n"
     ]
    },
    {
     "data": {
      "image/png": "[encoded data removed]",
      "text/plain": [
       "<Figure size 2100x300 with 7 Axes>"
      ]
     },
     "metadata": {},
     "output_type": "display_data"
    }
   ],
   "source": [
    "def get_label_from_text(text):\n",
    "    \"\"\"Map text description to label number\"\"\"\n",
    "    label_map = {\n",
    "        't-shirt': 0,\n",
    "        'trouser': 1,\n",
    "        'pullover': 2,\n",
    "        'dress': 3,\n",
    "        'coat': 4,\n",
    "        'sandal': 5,\n",
    "        'shirt': 6,\n",
    "        'sneaker': 7,\n",
    "        'bag': 8,\n",
    "        'boot': 9\n",
    "    }\n",
    "\n",
    "    label = label_map.get(text.lower())\n",
    "    if label is None:\n",
    "        raise ValueError(f\"Invalid text input: '{text}'. Valid options are: {list(label_map.keys())}\")\n",
    "\n",
    "    label = torch.tensor(label_map.get(text.lower(), -1)).to(device)\n",
    "    labels_onehot = one_hot(label, num_classes=10)\n",
    "    return labels_onehot\n",
    "\n",
    "\n",
    "def generate_from_texts(model, texts):\n",
    "    model.eval()\n",
    "    with torch.no_grad():\n",
    "        num_texts = len(texts)\n",
    "        fig, axs = plt.subplots(1, num_texts, figsize=(num_texts * 3, 3))\n",
    "        if num_texts == 1:\n",
    "            axs = [axs]\n",
    "\n",
    "        for i, text in enumerate(texts):\n",
    "            try:\n",
    "                labels_onehot = get_label_from_text(text).unsqueeze(0)\n",
    "                z = torch.randn(1, latent_dim).to(device)\n",
    "                samples = model.decoder(z, labels_onehot).view(-1, 1, 28, 28).cpu()\n",
    "                axs[i].imshow(samples.squeeze(), cmap=\"gray\")\n",
    "                axs[i].axis('off')\n",
    "                axs[i].set_title(text)\n",
    "\n",
    "            except ValueError as e:\n",
    "                print(e)\n",
    "                axs[i].axis('off')\n",
    "                axs[i].set_title(\"Invalid\")\n",
    "\n",
    "        plt.tight_layout()\n",
    "        plt.show()\n",
    "\n",
    "texts = [\"t-shirt\", \"sneaker\", \"bag\", \"coat\", \"dress\", \"sandal\", \"hat\"]\n",
    "generate_from_texts(model, texts)"
   ]
  }
 ],
 "metadata": {
  "colab": {
   "provenance": []
  },
  "kernelspec": {
   "display_name": "Python 3",
   "name": "python3"
  },
  "language_info": {
   "name": "python"
  }
 },
 "nbformat": 4,
 "nbformat_minor": 0
}
